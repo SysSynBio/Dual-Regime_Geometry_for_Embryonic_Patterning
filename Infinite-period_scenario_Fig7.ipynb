{
 "cells": [
  {
   "cell_type": "markdown",
   "metadata": {},
   "source": [
    "#### Laurent Jutras-Dubé   \n",
    "\n",
    "\n",
    "# Infinite-period scenario of Fig. 7\n",
    "\n",
    "\n",
    "####     \n",
    "\n",
    "**1. Pattern formation with the infinite-period scenario**\n",
    "\n",
    "In this notebook, we study the model of coupled oscillators from the following paper:\n",
    "\n",
    "Morelli, L. G., Ares, S., Herrgen, L., Schröter, C., Jülicher, F., & Oates, A. C. (2009). Delayed coupling theory of vertebrate segmentation. *HSFP Journal*, 3(1), 55-66."
   ]
  },
  {
   "cell_type": "code",
   "execution_count": null,
   "metadata": {},
   "outputs": [],
   "source": [
    "%matplotlib notebook\n",
    "import numpy as np\n",
    "import matplotlib.pyplot as plt\n",
    "from matplotlib import colors\n",
    "from matplotlib import rcParams"
   ]
  },
  {
   "cell_type": "markdown",
   "metadata": {},
   "source": [
    "####     \n",
    "\n",
    "**1.1 The frequency of the oscillations**\n",
    "\n",
    "We first define the function that computes the frequency of the oscillations inside the 1D array of cells as a function of time."
   ]
  },
  {
   "cell_type": "code",
   "execution_count": null,
   "metadata": {},
   "outputs": [],
   "source": [
    "def compute_omega(t, param):\n",
    "    \n",
    "    n_cells = param[\"n_cells\"]\n",
    "    w_inf = param[\"w_inf\"]\n",
    "    a = param[\"a\"]\n",
    "    v = param[\"v\"]\n",
    "    s = param[\"s\"]\n",
    "    L = param[\"L\"]\n",
    "    \n",
    "    positions = np.arange(1, n_cells+1)\n",
    "    omega = w_inf*(1. -np.exp(-(positions*a -v*t)/s))\n",
    "    omega[positions < v*t/a] = 0.\n",
    "    omega[positions >= (L+v*t)/a] = w_inf*(1. -np.exp(-L/s))\n",
    "    \n",
    "    return omega"
   ]
  },
  {
   "cell_type": "markdown",
   "metadata": {},
   "source": [
    "####          \n",
    "\n",
    "**1.2 The coupling term**\n",
    "\n",
    "In the next code cell, we define a function that computes the coupling term."
   ]
  },
  {
   "cell_type": "code",
   "execution_count": null,
   "metadata": {},
   "outputs": [],
   "source": [
    "def compute_coupling(t, phi, phi_delay, param):\n",
    "    \n",
    "    n_cells = param[\"n_cells\"]\n",
    "    epsilon = param[\"epsilon\"]\n",
    "    a = param[\"a\"]\n",
    "    v = param[\"v\"]\n",
    "    \n",
    "    coupling_term = np.zeros(len(phi))\n",
    "    coupling_term[1:-1] = 0.5*epsilon/a**2*(np.sin(phi_delay[:-2]-phi[1:-1]) +np.sin(phi_delay[2:]-phi[1:-1]))\n",
    "    \n",
    "    # Reflective boundary conditions\n",
    "    coupling_term[0] = epsilon/a**2*np.sin(phi_delay[1]-phi[0])\n",
    "    coupling_term[-1] = epsilon/a**2*np.sin(phi_delay[-2]-phi[-1])\n",
    "    \n",
    "    # Arrested cells\n",
    "    positions = np.arange(1, n_cells+1)\n",
    "    coupling_term[positions < v*t/a] = 0.\n",
    "    \n",
    "    \n",
    "    return coupling_term"
   ]
  },
  {
   "cell_type": "markdown",
   "metadata": {},
   "source": [
    "####    \n",
    "\n",
    "**1.3 The integration scheme** \n",
    "\n",
    "We use the Euler integration scheme to perform the integration of the ODE describing the  model. The `integrate` function takes the dictionary of parameters as an input. The four output matrices, `results`, `g_gradient`, `omega_gradient`, and `times_plot`, respectively contain the phase of the oscillators at all positions for every time point, the spatio-temporal distribution of parameter $g$, the spatio-temporal profile of the frequency of the oscillator and the array of time points. "
   ]
  },
  {
   "cell_type": "code",
   "execution_count": null,
   "metadata": {},
   "outputs": [],
   "source": [
    "def integrate(param):\n",
    "    \n",
    "    # Set integration parameters\n",
    "    total_t = param[\"total_t\"]\n",
    "    dt = param[\"dt\"]\n",
    "    times = np.arange(0., total_t, dt)\n",
    "    times_plot = [0.]\n",
    "    \n",
    "    n_cells = param[\"n_cells\"]\n",
    "    phi = np.zeros(n_cells) +param[\"init_phase\"]\n",
    "    results = [phi]\n",
    "    \n",
    "    omega = compute_omega(0., param)\n",
    "    omega_profile = [omega]\n",
    "    \n",
    "    tau = param[\"tau\"]\n",
    "    coupling_term = np.zeros(n_cells)\n",
    "\n",
    "\n",
    "    # Perform the integration\n",
    "    for t in times[1:]:\n",
    "        \n",
    "        phi = phi +omega*dt +coupling_term*dt\n",
    "        omega = compute_omega(t, param)\n",
    "            \n",
    "        results.append(phi)\n",
    "        omega_profile.append(omega)\n",
    "        \n",
    "        if (t > tau):\n",
    "            phi_delay = results[int((t-tau)/dt)]\n",
    "            coupling_term = compute_coupling(t, phi, phi_delay, param)\n",
    "        \n",
    "\n",
    "    # Output the results\n",
    "    results = np.array(results)\n",
    "    omega_profile = np.array(omega_profile)\n",
    "    \n",
    "    return results, omega_profile, times"
   ]
  },
  {
   "cell_type": "markdown",
   "metadata": {},
   "source": [
    "####     \n",
    "\n",
    "**1.4 The dynamics of pattern formation** \n",
    "\n",
    "We define all the parameters required for the frequency profile and for the integration scheme."
   ]
  },
  {
   "cell_type": "code",
   "execution_count": null,
   "metadata": {
    "scrolled": false
   },
   "outputs": [],
   "source": [
    "param = {\n",
    "    \n",
    "    # Parameters for the integration\n",
    "    \"total_t\"    : 400.,\n",
    "    \"dt\"         : 0.01,\n",
    "    \"n_cells\"    : 100,\n",
    "    \"init_phase\" : 0.,\n",
    "    \n",
    "    # Parameters for the omega profile\n",
    "    \"w_inf\" : 0.33861,  # characeristic intrinsic frequency\n",
    "    \"a\"     : 1.,       # average cell diameter\n",
    "    \"v\"     : 0.255,    # velocity of the arrest front\n",
    "    \"s\"     : 36,       # decay length of the frequency profile\n",
    "    \"L\"     : 39,       # length of the presomitic mesoderm\n",
    "    \n",
    "    # Parameters for the coupling term\n",
    "    \"epsilon\" : 0.07,   # coupling strength\n",
    "    \"tau\"     : 0.      # time delay\n",
    "}"
   ]
  },
  {
   "cell_type": "markdown",
   "metadata": {},
   "source": [
    "####       \n",
    "\n",
    "**1.4.1 No delay in the coupling**\n",
    "\n",
    "We first consider no delay in the coupling between neighboring cells, as in Fig. 3a) of (Morelli et al., 2009). We use the `integrate` function to perform the integration. We plot the spatio-temporal profile of the cosine of the phase of the oscillators on a kymograph. We also plot the spatio-temporal profile of frequency $\\omega$. Finally, we plot the trajectory of a representative cell."
   ]
  },
  {
   "cell_type": "code",
   "execution_count": null,
   "metadata": {},
   "outputs": [],
   "source": [
    "# Generate the results\n",
    "param[\"tau\"] = 0.\n",
    "results_no_delay, omega_profile_no_delay, times = integrate(param)\n",
    "\n",
    "\n",
    "# Plot a kymograph of the results\n",
    "plt.rcParams[\"figure.figsize\"] = 6.4, 4.8\n",
    "fig, ax = plt.subplots()\n",
    "   \n",
    "# Kymograph\n",
    "norm = colors.Normalize(vmin=-1., vmax=1.)\n",
    "kymo = ax.imshow(np.cos(results_no_delay).transpose(), norm=norm, cmap='Blues', aspect='auto')\n",
    "   \n",
    "# Colorbar\n",
    "cb = fig.colorbar(kymo, ax=ax, shrink=0.75, ticks=[-1., 0., 1.])\n",
    "cb.ax.tick_params(labelsize=24)\n",
    "\n",
    "# Other plot options\n",
    "ax.set_title('$\\cos(\\phi)$', fontsize=32)\n",
    "ax.set_xlabel('Time $t$', fontsize=32)\n",
    "ax.set_ylabel('Position $x$', fontsize=32)\n",
    "ax.set_ylim([param[\"n_cells\"], 0])\n",
    "ax.set_xticks([])\n",
    "ax.set_yticks([])\n",
    "    \n",
    "fig.show()"
   ]
  },
  {
   "cell_type": "code",
   "execution_count": null,
   "metadata": {},
   "outputs": [],
   "source": [
    "# Generate the kymograph of the frequency\n",
    "plt.rcParams[\"figure.figsize\"] = 6.4, 4.8\n",
    "fig, ax = plt.subplots()\n",
    "\n",
    "# Kymgograph\n",
    "kymo = ax.imshow(omega_profile_no_delay.transpose(), cmap='Greys', aspect='auto') #, norm=norm)\n",
    "    \n",
    "# Colorbar\n",
    "cb = fig.colorbar(kymo, ax=ax, shrink=0.75, ticks=[0., 0.1, 0.2])\n",
    "cb.ax.tick_params(labelsize=24)\n",
    "    \n",
    "# Other plot options\n",
    "ax.set_title('$\\omega(x,t)$', fontsize=32)\n",
    "ax.set_xlabel('Time $t$', fontsize=32)\n",
    "ax.set_ylabel('Position $x$', fontsize=32)\n",
    "ax.set_ylim([param[\"n_cells\"], 0])\n",
    "ax.set_xticks([])\n",
    "ax.set_yticks([])\n",
    "    \n",
    "fig.show()"
   ]
  },
  {
   "cell_type": "markdown",
   "metadata": {},
   "source": [
    "####   \n",
    "\n",
    "In the next code cells, we plot the spatial wave profile at two different time points."
   ]
  },
  {
   "cell_type": "code",
   "execution_count": null,
   "metadata": {},
   "outputs": [],
   "source": [
    "n_cells = param[\"n_cells\"]\n",
    "positions = np.arange(1, n_cells+1)\n",
    "t_index = int(param[\"total_t\"]/3./param[\"dt\"])+500\n",
    "start = 20\n",
    "end = 99\n",
    "\n",
    "\n",
    "\n",
    "# 1D y profile\n",
    "plt.rcParams[\"figure.figsize\"] = 6.4, 3.\n",
    "fig, ax = plt.subplots()\n",
    "\n",
    "ax.plot(positions[start:end], np.cos(results_no_delay)[t_index,start:end], c='tab:blue', lw=4, label='cos($\\phi$)', zorder=10)\n",
    "\n",
    "# Plot options\n",
    "ax.set_xlabel('$x$', fontsize=32)\n",
    "ax.set_ylabel('cos($\\phi$)', fontsize=32)\n",
    "ax.set_xlim([positions[start], positions[end]])\n",
    "ax.set_xticks([])\n",
    "ax.tick_params(labelsize=24)\n",
    "\n",
    "fig.tight_layout()\n",
    "fig.show()\n",
    "\n",
    "\n",
    "\n",
    "# 2D y profile\n",
    "tissue = np.array([np.cos(results_no_delay)[t_index,start:end] for k in range(50)])\n",
    "fig, ax = plt.subplots()\n",
    "\n",
    "norm = colors.Normalize(vmin=-1.0, vmax=1.)\n",
    "ax.imshow(tissue, norm=norm, cmap='Blues', aspect='auto')  \n",
    "\n",
    "ax.axis('off')\n",
    "fig.show()"
   ]
  },
  {
   "cell_type": "code",
   "execution_count": null,
   "metadata": {
    "scrolled": false
   },
   "outputs": [],
   "source": [
    "n_cells = param[\"n_cells\"]\n",
    "positions = np.arange(1, n_cells+1)\n",
    "t_index = int(param[\"total_t\"]/3./param[\"dt\"])+1800\n",
    "start = 20\n",
    "end = 99\n",
    "\n",
    "\n",
    "\n",
    "# 1D y profile\n",
    "plt.rcParams[\"figure.figsize\"] = 6.4, 3.\n",
    "fig, ax = plt.subplots()\n",
    "\n",
    "ax.plot(positions[start:end], np.cos(results_no_delay)[t_index,start:end], c='tab:blue', lw=4, label='cos($\\phi$)', zorder=10)\n",
    "\n",
    "# Plot options\n",
    "ax.set_xlabel('$x$', fontsize=32)\n",
    "ax.set_ylabel('cos($\\phi$)', fontsize=32)\n",
    "ax.set_xlim([positions[start], positions[end]])\n",
    "ax.set_xticks([])\n",
    "ax.tick_params(labelsize=24)\n",
    "\n",
    "fig.tight_layout()\n",
    "fig.show()\n",
    "\n",
    "\n",
    "\n",
    "# 2D y profile\n",
    "tissue = np.array([np.cos(results_no_delay)[t_index,start:end] for k in range(50)])\n",
    "fig, ax = plt.subplots()\n",
    "\n",
    "norm = colors.Normalize(vmin=-1.0, vmax=1.)\n",
    "ax.imshow(tissue, norm=norm, cmap='Blues', aspect='auto')  \n",
    "\n",
    "ax.axis('off')\n",
    "fig.show()"
   ]
  },
  {
   "cell_type": "markdown",
   "metadata": {},
   "source": [
    "####       \n",
    "\n",
    "**1.4.2 Short delay in the coupling**\n",
    "\n",
    "We now consider a small delay in the coupling between neighboring cells, as in Fig. 3b) of (Morelli et al., 2009)."
   ]
  },
  {
   "cell_type": "code",
   "execution_count": null,
   "metadata": {},
   "outputs": [],
   "source": [
    "# Generate the results\n",
    "param[\"tau\"] = 7.\n",
    "results_small_delay, omega_profile_small_delay, times = integrate(param)\n",
    "\n",
    "\n",
    "# Plot a kymograph of the results\n",
    "plt.rcParams[\"figure.figsize\"] = 6.4, 4.8\n",
    "fig, ax = plt.subplots()\n",
    "    \n",
    "# Kymograph\n",
    "norm = colors.Normalize(vmin=-1., vmax=1.)\n",
    "kymo = ax.imshow(np.cos(results_small_delay).transpose(), norm=norm, cmap='Blues', aspect='auto')\n",
    "   \n",
    "# Colorbar\n",
    "cb = fig.colorbar(kymo, ax=ax, shrink=0.75, ticks=[-1., 0., 1.])\n",
    "cb.ax.tick_params(labelsize=24)\n",
    "  \n",
    "# Other plot options\n",
    "ax.set_title('$\\cos(\\phi)$', fontsize=32)\n",
    "ax.set_xlabel('Time $t$', fontsize=32)\n",
    "ax.set_ylabel('Position $x$', fontsize=32)\n",
    "ax.set_ylim([param[\"n_cells\"], 0])\n",
    "ax.set_xticks([])\n",
    "ax.set_yticks([])\n",
    "    \n",
    "fig.show()"
   ]
  },
  {
   "cell_type": "markdown",
   "metadata": {},
   "source": [
    "####       \n",
    "\n",
    "**1.4.3 Long delay in the coupling**\n",
    "\n",
    "We now consider a long delay in the coupling between neighboring cells, as in Fig. 3c) of (Morelli et al., 2009)."
   ]
  },
  {
   "cell_type": "code",
   "execution_count": null,
   "metadata": {},
   "outputs": [],
   "source": [
    "# Generate the results\n",
    "param[\"tau\"] = 21.\n",
    "results_long_delay, omega_profile_long_delay, times = integrate(param)\n",
    "\n",
    "\n",
    "# Plot a kymograph of the results\n",
    "plt.rcParams[\"figure.figsize\"] = 6.4, 4.8\n",
    "fig, ax = plt.subplots()\n",
    "   \n",
    "# Kymograph\n",
    "norm = colors.Normalize(vmin=-1., vmax=1.)\n",
    "kymo = ax.imshow(np.cos(results_long_delay).transpose(), norm=norm, cmap='Blues', aspect='auto')\n",
    " \n",
    "# Colorbar\n",
    "cb = fig.colorbar(kymo, ax=ax, shrink=0.75, ticks=[-1., 0., 1.])\n",
    "cb.ax.tick_params(labelsize=24)\n",
    "\n",
    "# Other plot options\n",
    "ax.set_title('$\\cos(\\phi)$', fontsize=32)\n",
    "ax.set_xlabel('Time $t$', fontsize=32)\n",
    "ax.set_ylabel('Position $x$', fontsize=32)\n",
    "ax.set_ylim([param[\"n_cells\"], 0])\n",
    "ax.set_xticks([])\n",
    "ax.set_yticks([])\n",
    "    \n",
    "fig.show()"
   ]
  }
 ],
 "metadata": {
  "anaconda-cloud": {},
  "kernelspec": {
   "display_name": "Python 3",
   "language": "python",
   "name": "python3"
  },
  "language_info": {
   "codemirror_mode": {
    "name": "ipython",
    "version": 3
   },
   "file_extension": ".py",
   "mimetype": "text/x-python",
   "name": "python",
   "nbconvert_exporter": "python",
   "pygments_lexer": "ipython3",
   "version": "3.6.8"
  }
 },
 "nbformat": 4,
 "nbformat_minor": 1
}
